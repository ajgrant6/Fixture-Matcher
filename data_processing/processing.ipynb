{
 "cells": [
  {
   "cell_type": "code",
   "execution_count": 4,
   "metadata": {},
   "outputs": [
    {
     "name": "stdout",
     "output_type": "stream",
     "text": [
      "       Mask                                               Part\n",
      "0  FX-00042                               203-311-C, 223-313-C\n",
      "1  FX-00043                                          204-411-C\n",
      "2  FX-00044                                          205-511-C\n",
      "3  FX-00107                                          206-611-C\n",
      "4  FX-00045  PYREA, PYAEA, PYAEAL-C, PYSEA, PYSEA3, PYETHL,...\n"
     ]
    }
   ],
   "source": [
    "import pandas as pd\n",
    "\n",
    "df = pd.read_csv('Masks.csv')\n",
    "print(df.head())"
   ]
  },
  {
   "cell_type": "code",
   "execution_count": 5,
   "metadata": {},
   "outputs": [
    {
     "name": "stdout",
     "output_type": "stream",
     "text": [
      "           Mask        Part\n",
      "0      FX-00042   203-311-C\n",
      "1      FX-00042   223-313-C\n",
      "2      FX-00043   204-411-C\n",
      "3      FX-00044   205-511-C\n",
      "4      FX-00107   206-611-C\n",
      "..          ...         ...\n",
      "78  FX-00372-02  C2273.5060\n",
      "79  FX-00373-02  J2273.3810\n",
      "80  FX-00373-02  J2273.3860\n",
      "81  FX-00373-04  J2273.5010\n",
      "82  FX-00373-04  32273.5060\n",
      "\n",
      "[83 rows x 2 columns]\n"
     ]
    }
   ],
   "source": [
    "df['Part'] = df['Part'].str.split(r',\\s*')  # Use raw string to avoid escape sequence issue\n",
    "df = df.explode('Part')  # Explode the list into separate rows\n",
    "df['Part'] = df['Part'].str.strip()  # Remove any leading/trailing whitespace from 'Part' entries\n",
    "\n",
    "# Reset the index if desired\n",
    "df.reset_index(drop=True, inplace=True)\n",
    "\n",
    "print(df)"
   ]
  },
  {
   "cell_type": "code",
   "execution_count": 6,
   "metadata": {},
   "outputs": [],
   "source": [
    "# Export the DataFrame to a JSON file\n",
    "df.to_json('maskmap.json', orient='records', lines=False)"
   ]
  }
 ],
 "metadata": {
  "kernelspec": {
   "display_name": ".venv",
   "language": "python",
   "name": "python3"
  },
  "language_info": {
   "codemirror_mode": {
    "name": "ipython",
    "version": 3
   },
   "file_extension": ".py",
   "mimetype": "text/x-python",
   "name": "python",
   "nbconvert_exporter": "python",
   "pygments_lexer": "ipython3",
   "version": "3.12.3"
  }
 },
 "nbformat": 4,
 "nbformat_minor": 2
}
